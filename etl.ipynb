{
 "cells": [
  {
   "cell_type": "markdown",
   "metadata": {},
   "source": [
    "# Xtremax - Data Engineer Test"
   ]
  },
  {
   "cell_type": "markdown",
   "metadata": {},
   "source": [
    "**Author:** [Muhammad Ilham Siddiqqulhakim](https://www.linkedin.com/in/milhams/)"
   ]
  },
  {
   "cell_type": "markdown",
   "metadata": {},
   "source": [
    "**Dataset:** [120 Years of Olympic History](https://mavenanalytics.io/data-playground)"
   ]
  },
  {
   "cell_type": "markdown",
   "metadata": {},
   "source": [
    "**Description:** An ETL Code using [120 Years of Olympic History](https://mavenanalytics.io/data-playground)\n",
    "- Script must contain data preparation/cleaning step\n",
    "- Script must contain data summarization step\n",
    "- Make sure script are running properly\n",
    "- Clearly written (utilize comment)"
   ]
  },
  {
   "cell_type": "markdown",
   "metadata": {},
   "source": [
    "## Data Preparation/Cleaning"
   ]
  },
  {
   "cell_type": "markdown",
   "metadata": {},
   "source": [
    "### Dependencies"
   ]
  },
  {
   "cell_type": "code",
   "execution_count": 1,
   "metadata": {},
   "outputs": [],
   "source": [
    "# import dependencies\n",
    "import pyodbc\n",
    "import pandas as pd"
   ]
  },
  {
   "cell_type": "markdown",
   "metadata": {},
   "source": [
    "### Load data"
   ]
  },
  {
   "cell_type": "code",
   "execution_count": 2,
   "metadata": {},
   "outputs": [
    {
     "name": "stderr",
     "output_type": "stream",
     "text": [
      "C:\\Users\\siddi\\AppData\\Local\\Temp\\ipykernel_2724\\543578673.py:14: UserWarning: pandas only supports SQLAlchemy connectable (engine/connection) or database string URI or sqlite3 DBAPI2 connection. Other DBAPI2 objects are not tested. Please consider using SQLAlchemy.\n",
      "  athlete_events_df = pd.read_sql(athlete_query, conn)\n"
     ]
    },
    {
     "name": "stdout",
     "output_type": "stream",
     "text": [
      "   ID                      Name Sex Age Height Weight            Team  NOC  \\\n",
      "0   1                 A Dijiang   M  24    180     80           China  CHN   \n",
      "1   2                  A Lamusi   M  23    170     60           China  CHN   \n",
      "2   3       Gunnar Nielsen Aaby   M  24     NA     NA         Denmark  DEN   \n",
      "3   4      Edgar Lindenau Aabye   M  34     NA     NA  Denmark/Sweden  DEN   \n",
      "4   5  Christine Jacoba Aaftink   F  21    185     82     Netherlands  NED   \n",
      "\n",
      "         Games  Year  Season       City          Sport  \\\n",
      "0  1992 Summer  1992  Summer  Barcelona     Basketball   \n",
      "1  2012 Summer  2012  Summer     London           Judo   \n",
      "2  1920 Summer  1920  Summer  Antwerpen       Football   \n",
      "3  1900 Summer  1900  Summer      Paris     Tug-Of-War   \n",
      "4  1988 Winter  1988  Winter    Calgary  Speed Skating   \n",
      "\n",
      "                              Event Medal  \n",
      "0       Basketball Men's Basketball    NA  \n",
      "1      Judo Men's Extra-Lightweight    NA  \n",
      "2           Football Men's Football    NA  \n",
      "3       Tug-Of-War Men's Tug-Of-War  Gold  \n",
      "4  Speed Skating Women's 500 metres    NA  \n",
      "   NOC       region                 notes\n",
      "0  AFG  Afghanistan                  None\n",
      "1  AHO      Curacao  Netherlands Antilles\n",
      "2  ALB      Albania                  None\n",
      "3  ALG      Algeria                  None\n",
      "4  AND      Andorra                  None\n"
     ]
    },
    {
     "name": "stderr",
     "output_type": "stream",
     "text": [
      "C:\\Users\\siddi\\AppData\\Local\\Temp\\ipykernel_2724\\543578673.py:15: UserWarning: pandas only supports SQLAlchemy connectable (engine/connection) or database string URI or sqlite3 DBAPI2 connection. Other DBAPI2 objects are not tested. Please consider using SQLAlchemy.\n",
      "  country_def_df = pd.read_sql(country_query, conn)\n"
     ]
    }
   ],
   "source": [
    "# Database connection\n",
    "conn = pyodbc.connect(\n",
    "    'DRIVER={ODBC Driver 17 for SQL Server};'\n",
    "    'SERVER=localhost,1433;'\n",
    "    'DATABASE=olympic_athletes;'\n",
    "    'Trusted_Connection=yes;'\n",
    ")\n",
    "\n",
    "# Query to fetch the data\n",
    "athlete_query = \"SELECT * FROM athlete_events\"\n",
    "country_query = \"SELECT * FROM country_definitions\"\n",
    "\n",
    "# Load data into pandas DataFrame\n",
    "athlete_events_df = pd.read_sql(athlete_query, conn)\n",
    "country_def_df = pd.read_sql(country_query, conn)\n",
    "\n",
    "print(athlete_events_df.head())\n",
    "print(country_def_df.head())"
   ]
  },
  {
   "cell_type": "markdown",
   "metadata": {},
   "source": [
    "### Cleansing/Preparation"
   ]
  },
  {
   "cell_type": "code",
   "execution_count": 3,
   "metadata": {},
   "outputs": [],
   "source": [
    "# 1. Handle Missing Values\n",
    "# Replace 'NA' strings with actual NaN values for proper handling\n",
    "athlete_events_df.replace('NA', pd.NA, inplace=True)"
   ]
  },
  {
   "cell_type": "code",
   "execution_count": 4,
   "metadata": {},
   "outputs": [],
   "source": [
    "# 2. Data Type Conversion\n",
    "# Convert numerical columns to the appropriate data types\n",
    "athlete_events_df['Age'] = pd.to_numeric(athlete_events_df['Age'], errors='coerce')\n",
    "athlete_events_df['Height'] = pd.to_numeric(athlete_events_df['Height'], errors='coerce')\n",
    "athlete_events_df['Weight'] = pd.to_numeric(athlete_events_df['Weight'], errors='coerce')"
   ]
  },
  {
   "cell_type": "code",
   "execution_count": 5,
   "metadata": {},
   "outputs": [],
   "source": [
    "# 3. Remove Duplicates\n",
    "# Drop duplicate records\n",
    "athlete_events_df.drop_duplicates(inplace=True)"
   ]
  },
  {
   "cell_type": "code",
   "execution_count": 6,
   "metadata": {},
   "outputs": [],
   "source": [
    "# 4. Join with country definition data\n",
    "# Merge the two datasets to get the region information\n",
    "merged_df = pd.merge(athlete_events_df, country_def_df, on='NOC', how='left')"
   ]
  },
  {
   "cell_type": "code",
   "execution_count": 7,
   "metadata": {},
   "outputs": [
    {
     "data": {
      "text/html": [
       "<div>\n",
       "<style scoped>\n",
       "    .dataframe tbody tr th:only-of-type {\n",
       "        vertical-align: middle;\n",
       "    }\n",
       "\n",
       "    .dataframe tbody tr th {\n",
       "        vertical-align: top;\n",
       "    }\n",
       "\n",
       "    .dataframe thead th {\n",
       "        text-align: right;\n",
       "    }\n",
       "</style>\n",
       "<table border=\"1\" class=\"dataframe\">\n",
       "  <thead>\n",
       "    <tr style=\"text-align: right;\">\n",
       "      <th></th>\n",
       "      <th>ID</th>\n",
       "      <th>Name</th>\n",
       "      <th>Sex</th>\n",
       "      <th>Age</th>\n",
       "      <th>Height</th>\n",
       "      <th>Weight</th>\n",
       "      <th>Team</th>\n",
       "      <th>NOC</th>\n",
       "      <th>Games</th>\n",
       "      <th>Year</th>\n",
       "      <th>Season</th>\n",
       "      <th>City</th>\n",
       "      <th>Sport</th>\n",
       "      <th>Event</th>\n",
       "      <th>Medal</th>\n",
       "      <th>region</th>\n",
       "      <th>notes</th>\n",
       "    </tr>\n",
       "  </thead>\n",
       "  <tbody>\n",
       "    <tr>\n",
       "      <th>0</th>\n",
       "      <td>1</td>\n",
       "      <td>A Dijiang</td>\n",
       "      <td>M</td>\n",
       "      <td>24.0</td>\n",
       "      <td>180.0</td>\n",
       "      <td>80.0</td>\n",
       "      <td>China</td>\n",
       "      <td>CHN</td>\n",
       "      <td>1992 Summer</td>\n",
       "      <td>1992</td>\n",
       "      <td>Summer</td>\n",
       "      <td>Barcelona</td>\n",
       "      <td>Basketball</td>\n",
       "      <td>Basketball Men's Basketball</td>\n",
       "      <td>&lt;NA&gt;</td>\n",
       "      <td>China</td>\n",
       "      <td>None</td>\n",
       "    </tr>\n",
       "    <tr>\n",
       "      <th>1</th>\n",
       "      <td>2</td>\n",
       "      <td>A Lamusi</td>\n",
       "      <td>M</td>\n",
       "      <td>23.0</td>\n",
       "      <td>170.0</td>\n",
       "      <td>60.0</td>\n",
       "      <td>China</td>\n",
       "      <td>CHN</td>\n",
       "      <td>2012 Summer</td>\n",
       "      <td>2012</td>\n",
       "      <td>Summer</td>\n",
       "      <td>London</td>\n",
       "      <td>Judo</td>\n",
       "      <td>Judo Men's Extra-Lightweight</td>\n",
       "      <td>&lt;NA&gt;</td>\n",
       "      <td>China</td>\n",
       "      <td>None</td>\n",
       "    </tr>\n",
       "    <tr>\n",
       "      <th>2</th>\n",
       "      <td>3</td>\n",
       "      <td>Gunnar Nielsen Aaby</td>\n",
       "      <td>M</td>\n",
       "      <td>24.0</td>\n",
       "      <td>NaN</td>\n",
       "      <td>NaN</td>\n",
       "      <td>Denmark</td>\n",
       "      <td>DEN</td>\n",
       "      <td>1920 Summer</td>\n",
       "      <td>1920</td>\n",
       "      <td>Summer</td>\n",
       "      <td>Antwerpen</td>\n",
       "      <td>Football</td>\n",
       "      <td>Football Men's Football</td>\n",
       "      <td>&lt;NA&gt;</td>\n",
       "      <td>Denmark</td>\n",
       "      <td>None</td>\n",
       "    </tr>\n",
       "    <tr>\n",
       "      <th>3</th>\n",
       "      <td>4</td>\n",
       "      <td>Edgar Lindenau Aabye</td>\n",
       "      <td>M</td>\n",
       "      <td>34.0</td>\n",
       "      <td>NaN</td>\n",
       "      <td>NaN</td>\n",
       "      <td>Denmark/Sweden</td>\n",
       "      <td>DEN</td>\n",
       "      <td>1900 Summer</td>\n",
       "      <td>1900</td>\n",
       "      <td>Summer</td>\n",
       "      <td>Paris</td>\n",
       "      <td>Tug-Of-War</td>\n",
       "      <td>Tug-Of-War Men's Tug-Of-War</td>\n",
       "      <td>Gold</td>\n",
       "      <td>Denmark</td>\n",
       "      <td>None</td>\n",
       "    </tr>\n",
       "    <tr>\n",
       "      <th>4</th>\n",
       "      <td>5</td>\n",
       "      <td>Christine Jacoba Aaftink</td>\n",
       "      <td>F</td>\n",
       "      <td>21.0</td>\n",
       "      <td>185.0</td>\n",
       "      <td>82.0</td>\n",
       "      <td>Netherlands</td>\n",
       "      <td>NED</td>\n",
       "      <td>1988 Winter</td>\n",
       "      <td>1988</td>\n",
       "      <td>Winter</td>\n",
       "      <td>Calgary</td>\n",
       "      <td>Speed Skating</td>\n",
       "      <td>Speed Skating Women's 500 metres</td>\n",
       "      <td>&lt;NA&gt;</td>\n",
       "      <td>Netherlands</td>\n",
       "      <td>None</td>\n",
       "    </tr>\n",
       "  </tbody>\n",
       "</table>\n",
       "</div>"
      ],
      "text/plain": [
       "   ID                      Name Sex   Age  Height  Weight            Team  \\\n",
       "0   1                 A Dijiang   M  24.0   180.0    80.0           China   \n",
       "1   2                  A Lamusi   M  23.0   170.0    60.0           China   \n",
       "2   3       Gunnar Nielsen Aaby   M  24.0     NaN     NaN         Denmark   \n",
       "3   4      Edgar Lindenau Aabye   M  34.0     NaN     NaN  Denmark/Sweden   \n",
       "4   5  Christine Jacoba Aaftink   F  21.0   185.0    82.0     Netherlands   \n",
       "\n",
       "   NOC        Games  Year  Season       City          Sport  \\\n",
       "0  CHN  1992 Summer  1992  Summer  Barcelona     Basketball   \n",
       "1  CHN  2012 Summer  2012  Summer     London           Judo   \n",
       "2  DEN  1920 Summer  1920  Summer  Antwerpen       Football   \n",
       "3  DEN  1900 Summer  1900  Summer      Paris     Tug-Of-War   \n",
       "4  NED  1988 Winter  1988  Winter    Calgary  Speed Skating   \n",
       "\n",
       "                              Event Medal       region notes  \n",
       "0       Basketball Men's Basketball  <NA>        China  None  \n",
       "1      Judo Men's Extra-Lightweight  <NA>        China  None  \n",
       "2           Football Men's Football  <NA>      Denmark  None  \n",
       "3       Tug-Of-War Men's Tug-Of-War  Gold      Denmark  None  \n",
       "4  Speed Skating Women's 500 metres  <NA>  Netherlands  None  "
      ]
     },
     "execution_count": 7,
     "metadata": {},
     "output_type": "execute_result"
    }
   ],
   "source": [
    "merged_df.head()"
   ]
  },
  {
   "cell_type": "markdown",
   "metadata": {},
   "source": [
    "Since the data is already \"good\", so I just need to do simple cleansing/transformation"
   ]
  },
  {
   "cell_type": "markdown",
   "metadata": {},
   "source": [
    "## Data Summarization"
   ]
  },
  {
   "cell_type": "code",
   "execution_count": 8,
   "metadata": {},
   "outputs": [
    {
     "name": "stdout",
     "output_type": "stream",
     "text": [
      "Medal Summary by Country and Type:\n",
      "Medal               Bronze  Gold  Silver\n",
      "region                                  \n",
      "Afghanistan              2     0       0\n",
      "Algeria                  8     5       4\n",
      "Argentina               91    91      92\n",
      "Armenia                  9     2       5\n",
      "Australia              522   368     459\n",
      "...                    ...   ...     ...\n",
      "Venezuela               10     2       3\n",
      "Vietnam                  0     1       3\n",
      "Virgin Islands, US       0     0       1\n",
      "Zambia                   1     0       1\n",
      "Zimbabwe                 1    17       4\n",
      "\n",
      "[136 rows x 3 columns]\n"
     ]
    }
   ],
   "source": [
    "# Metric 1: Medal Summary by Country and Type\n",
    "medal_summary = merged_df.groupby(['region', 'Medal']).size().unstack(fill_value=0)\n",
    "print(\"Medal Summary by Country and Type:\")\n",
    "print(medal_summary)"
   ]
  },
  {
   "cell_type": "code",
   "execution_count": 9,
   "metadata": {},
   "outputs": [
    {
     "name": "stdout",
     "output_type": "stream",
     "text": [
      "Athlete Summary by Country (Average Age, Height, Weight):\n",
      "                      region        Age      Height     Weight\n",
      "0                Afghanistan  23.538462  170.592593  65.901639\n",
      "1                    Albania  25.342857  173.000000  71.491803\n",
      "2                    Algeria  24.370642  174.702869  68.693252\n",
      "3             American Samoa  27.216216  175.666667  87.958333\n",
      "4                    Andorra  23.065089  173.703704  70.644444\n",
      "..                       ...        ...         ...        ...\n",
      "201  Virgin Islands, British  26.200000  178.631579  73.800000\n",
      "202       Virgin Islands, US  27.336770  177.933333  73.412500\n",
      "203                    Yemen  21.604167  168.189189  61.526316\n",
      "204                   Zambia  23.461039  172.828125  66.035971\n",
      "205                 Zimbabwe  25.211838  173.203333  68.049834\n",
      "\n",
      "[206 rows x 4 columns]\n"
     ]
    }
   ],
   "source": [
    "# Metric 2: Average Age, Height, and Weight by Country\n",
    "athlete_summary = merged_df.groupby('region').agg({\n",
    "    'Age': 'mean',\n",
    "    'Height': 'mean',\n",
    "    'Weight': 'mean'\n",
    "}).reset_index()\n",
    "print(\"Athlete Summary by Country (Average Age, Height, Weight):\")\n",
    "print(athlete_summary)"
   ]
  },
  {
   "cell_type": "code",
   "execution_count": 10,
   "metadata": {},
   "outputs": [
    {
     "name": "stdout",
     "output_type": "stream",
     "text": [
      "Gender Distribution by Country:\n",
      "Sex                        F    M\n",
      "region                           \n",
      "Afghanistan                5  121\n",
      "Albania                   27   43\n",
      "Algeria                   94  457\n",
      "American Samoa             7   30\n",
      "Andorra                   42  127\n",
      "...                      ...  ...\n",
      "Virgin Islands, British    5   40\n",
      "Virgin Islands, US        57  237\n",
      "Yemen                      4   44\n",
      "Zambia                    19  164\n",
      "Zimbabwe                 114  209\n",
      "\n",
      "[206 rows x 2 columns]\n"
     ]
    }
   ],
   "source": [
    "# Metric 3: Gender Distribution by Country\n",
    "gender_summary = merged_df.groupby(['region', 'Sex']).size().unstack(fill_value=0)\n",
    "print(\"Gender Distribution by Country:\")\n",
    "print(gender_summary)"
   ]
  },
  {
   "cell_type": "code",
   "execution_count": 11,
   "metadata": {},
   "outputs": [
    {
     "name": "stdout",
     "output_type": "stream",
     "text": [
      "Total Number of Athletes Participating in Each Sport by Country:\n",
      "Sport                    Aeronautics  Alpine Skiing  Alpinism  Archery  \\\n",
      "region                                                                   \n",
      "Afghanistan                        0              0         0        0   \n",
      "Albania                            0              7         0        0   \n",
      "Algeria                            0             10         0        0   \n",
      "American Samoa                     0              0         0        1   \n",
      "Andorra                            0            105         0        0   \n",
      "...                              ...            ...       ...      ...   \n",
      "Virgin Islands, British            0              0         0        0   \n",
      "Virgin Islands, US                 0              9         0        0   \n",
      "Yemen                              0              0         0        0   \n",
      "Zambia                             0              0         0        0   \n",
      "Zimbabwe                           0              2         0        9   \n",
      "\n",
      "Sport                    Art Competitions  Athletics  Badminton  Baseball  \\\n",
      "region                                                                      \n",
      "Afghanistan                             0         22          0         0   \n",
      "Albania                                 0         12          0         0   \n",
      "Algeria                                 0        139          1         0   \n",
      "American Samoa                          0         11          0         0   \n",
      "Andorra                                 0         13          0         0   \n",
      "...                                   ...        ...        ...       ...   \n",
      "Virgin Islands, British                 0         31          0         0   \n",
      "Virgin Islands, US                      0         61          0         0   \n",
      "Yemen                                   0         24          0         0   \n",
      "Zambia                                  0         70          1         0   \n",
      "Zimbabwe                                0         86          0         0   \n",
      "\n",
      "Sport                    Basketball  Basque Pelota  ...  Table Tennis  \\\n",
      "region                                              ...                 \n",
      "Afghanistan                       0              0  ...             0   \n",
      "Albania                           0              0  ...             0   \n",
      "Algeria                           0              0  ...            10   \n",
      "American Samoa                    0              0  ...             0   \n",
      "Andorra                           0              0  ...             0   \n",
      "...                             ...            ...  ...           ...   \n",
      "Virgin Islands, British           0              0  ...             0   \n",
      "Virgin Islands, US                0              0  ...             0   \n",
      "Yemen                             0              0  ...             0   \n",
      "Zambia                            0              0  ...             0   \n",
      "Zimbabwe                          0              0  ...             0   \n",
      "\n",
      "Sport                    Taekwondo  Tennis  Trampolining  Triathlon  \\\n",
      "region                                                                \n",
      "Afghanistan                      4       0             0          0   \n",
      "Albania                          0       0             0          0   \n",
      "Algeria                          1       2             1          0   \n",
      "American Samoa                   0       0             0          0   \n",
      "Andorra                          0       0             0          0   \n",
      "...                            ...     ...           ...        ...   \n",
      "Virgin Islands, British          0       0             0          0   \n",
      "Virgin Islands, US               0       0             0          0   \n",
      "Yemen                            2       0             0          0   \n",
      "Zambia                           0       0             0          0   \n",
      "Zimbabwe                         0      19             0          3   \n",
      "\n",
      "Sport                    Tug-Of-War  Volleyball  Water Polo  Weightlifting  \\\n",
      "region                                                                       \n",
      "Afghanistan                       0           0           0              0   \n",
      "Albania                           0           0           0             17   \n",
      "Algeria                           0          31           0             19   \n",
      "American Samoa                    0           0           0              7   \n",
      "Andorra                           0           0           0              0   \n",
      "...                             ...         ...         ...            ...   \n",
      "Virgin Islands, British           0           0           0              0   \n",
      "Virgin Islands, US                0           0           0              1   \n",
      "Yemen                             0           0           0              0   \n",
      "Zambia                            0           0           0              0   \n",
      "Zimbabwe                          0           0           0              1   \n",
      "\n",
      "Sport                    Wrestling  \n",
      "region                              \n",
      "Afghanistan                     42  \n",
      "Albania                          4  \n",
      "Algeria                         19  \n",
      "American Samoa                   2  \n",
      "Andorra                          0  \n",
      "...                            ...  \n",
      "Virgin Islands, British          0  \n",
      "Virgin Islands, US               4  \n",
      "Yemen                            3  \n",
      "Zambia                           2  \n",
      "Zimbabwe                         0  \n",
      "\n",
      "[206 rows x 66 columns]\n"
     ]
    }
   ],
   "source": [
    "# Metric 4: Total Number of Athletes Participating in Each Sport by Country\n",
    "sport_summary = merged_df.groupby(['region', 'Sport']).size().unstack(fill_value=0)\n",
    "print(\"Total Number of Athletes Participating in Each Sport by Country:\")\n",
    "print(sport_summary)"
   ]
  },
  {
   "cell_type": "markdown",
   "metadata": {},
   "source": [
    "## Finishing"
   ]
  },
  {
   "cell_type": "code",
   "execution_count": 12,
   "metadata": {},
   "outputs": [
    {
     "name": "stdout",
     "output_type": "stream",
     "text": [
      "         Age Age Category\n",
      "0       24.0        19-25\n",
      "1       23.0        19-25\n",
      "2       24.0        19-25\n",
      "3       34.0        26-35\n",
      "4       21.0        19-25\n",
      "...      ...          ...\n",
      "269726  29.0        26-35\n",
      "269727  27.0        26-35\n",
      "269728  27.0        26-35\n",
      "269729  30.0        26-35\n",
      "269730  34.0        26-35\n",
      "\n",
      "[269731 rows x 2 columns]\n"
     ]
    }
   ],
   "source": [
    "# Add Age Category For Dashboard\n",
    "bins = [0, 18, 25, 35, 45, 100]\n",
    "labels = ['0-18', '19-25', '26-35', '36-45', '46+']\n",
    "merged_df['Age Category'] = pd.cut(merged_df['Age'], bins=bins, labels=labels, right=False)\n",
    "print(merged_df[['Age', 'Age Category']])"
   ]
  },
  {
   "cell_type": "code",
   "execution_count": 13,
   "metadata": {},
   "outputs": [],
   "source": [
    "# Export to CSV for Power BI\n",
    "merged_df.to_csv(\"olympic_athletes_merged.csv\", index=False)"
   ]
  },
  {
   "cell_type": "code",
   "execution_count": 14,
   "metadata": {},
   "outputs": [],
   "source": [
    "# Close the connection\n",
    "conn.close()"
   ]
  }
 ],
 "metadata": {
  "kernelspec": {
   "display_name": "Python 3",
   "language": "python",
   "name": "python3"
  },
  "language_info": {
   "codemirror_mode": {
    "name": "ipython",
    "version": 3
   },
   "file_extension": ".py",
   "mimetype": "text/x-python",
   "name": "python",
   "nbconvert_exporter": "python",
   "pygments_lexer": "ipython3",
   "version": "3.12.3"
  }
 },
 "nbformat": 4,
 "nbformat_minor": 2
}
